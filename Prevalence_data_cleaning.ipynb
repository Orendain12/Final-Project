{
 "cells": [
  {
   "cell_type": "code",
   "execution_count": 1,
   "id": "f2a874dd",
   "metadata": {},
   "outputs": [],
   "source": [
    "# Dependencies and Setup\n",
    "import pandas as pd\n",
    "\n",
    "# File to Load (Remember to change the path if needed.)\n",
    "prevalence_data_to_load = \"U.S._Chronic_Disease_Indicators.csv\""
   ]
  },
  {
   "cell_type": "code",
   "execution_count": 2,
   "id": "3a9c4ca2",
   "metadata": {},
   "outputs": [
    {
     "name": "stderr",
     "output_type": "stream",
     "text": [
      "C:\\Users\\akaja\\.conda\\envs\\mlenv\\lib\\site-packages\\IPython\\core\\interactiveshell.py:3457: DtypeWarning: Columns (7,10,18,19,20,21,23,30,31,32,33) have mixed types.Specify dtype option on import or set low_memory=False.\n",
      "  exec(code_obj, self.user_global_ns, self.user_ns)\n"
     ]
    }
   ],
   "source": [
    "prevalence_data_df = pd.read_csv(prevalence_data_to_load)"
   ]
  },
  {
   "cell_type": "code",
   "execution_count": 3,
   "id": "65e2d351",
   "metadata": {
    "scrolled": true
   },
   "outputs": [
    {
     "data": {
      "text/html": [
       "<div>\n",
       "<style scoped>\n",
       "    .dataframe tbody tr th:only-of-type {\n",
       "        vertical-align: middle;\n",
       "    }\n",
       "\n",
       "    .dataframe tbody tr th {\n",
       "        vertical-align: top;\n",
       "    }\n",
       "\n",
       "    .dataframe thead th {\n",
       "        text-align: right;\n",
       "    }\n",
       "</style>\n",
       "<table border=\"1\" class=\"dataframe\">\n",
       "  <thead>\n",
       "    <tr style=\"text-align: right;\">\n",
       "      <th></th>\n",
       "      <th>YearStart</th>\n",
       "      <th>YearEnd</th>\n",
       "      <th>LocationAbbr</th>\n",
       "      <th>LocationDesc</th>\n",
       "      <th>DataSource</th>\n",
       "      <th>Topic</th>\n",
       "      <th>Question</th>\n",
       "      <th>Response</th>\n",
       "      <th>DataValueUnit</th>\n",
       "      <th>DataValueType</th>\n",
       "      <th>...</th>\n",
       "      <th>LocationID</th>\n",
       "      <th>TopicID</th>\n",
       "      <th>QuestionID</th>\n",
       "      <th>DataValueTypeID</th>\n",
       "      <th>StratificationCategoryID1</th>\n",
       "      <th>StratificationID1</th>\n",
       "      <th>StratificationCategoryID2</th>\n",
       "      <th>StratificationID2</th>\n",
       "      <th>StratificationCategoryID3</th>\n",
       "      <th>StratificationID3</th>\n",
       "    </tr>\n",
       "  </thead>\n",
       "  <tbody>\n",
       "    <tr>\n",
       "      <th>0</th>\n",
       "      <td>2015</td>\n",
       "      <td>2015</td>\n",
       "      <td>AK</td>\n",
       "      <td>Alaska</td>\n",
       "      <td>YRBSS</td>\n",
       "      <td>Alcohol</td>\n",
       "      <td>Alcohol use among youth</td>\n",
       "      <td>NaN</td>\n",
       "      <td>%</td>\n",
       "      <td>Crude Prevalence</td>\n",
       "      <td>...</td>\n",
       "      <td>2</td>\n",
       "      <td>ALC</td>\n",
       "      <td>ALC1_1</td>\n",
       "      <td>CrdPrev</td>\n",
       "      <td>OVERALL</td>\n",
       "      <td>OVR</td>\n",
       "      <td>NaN</td>\n",
       "      <td>NaN</td>\n",
       "      <td>NaN</td>\n",
       "      <td>NaN</td>\n",
       "    </tr>\n",
       "    <tr>\n",
       "      <th>1</th>\n",
       "      <td>2015</td>\n",
       "      <td>2015</td>\n",
       "      <td>AL</td>\n",
       "      <td>Alabama</td>\n",
       "      <td>YRBSS</td>\n",
       "      <td>Alcohol</td>\n",
       "      <td>Alcohol use among youth</td>\n",
       "      <td>NaN</td>\n",
       "      <td>%</td>\n",
       "      <td>Crude Prevalence</td>\n",
       "      <td>...</td>\n",
       "      <td>1</td>\n",
       "      <td>ALC</td>\n",
       "      <td>ALC1_1</td>\n",
       "      <td>CrdPrev</td>\n",
       "      <td>OVERALL</td>\n",
       "      <td>OVR</td>\n",
       "      <td>NaN</td>\n",
       "      <td>NaN</td>\n",
       "      <td>NaN</td>\n",
       "      <td>NaN</td>\n",
       "    </tr>\n",
       "    <tr>\n",
       "      <th>2</th>\n",
       "      <td>2015</td>\n",
       "      <td>2015</td>\n",
       "      <td>AR</td>\n",
       "      <td>Arkansas</td>\n",
       "      <td>YRBSS</td>\n",
       "      <td>Alcohol</td>\n",
       "      <td>Alcohol use among youth</td>\n",
       "      <td>NaN</td>\n",
       "      <td>%</td>\n",
       "      <td>Crude Prevalence</td>\n",
       "      <td>...</td>\n",
       "      <td>5</td>\n",
       "      <td>ALC</td>\n",
       "      <td>ALC1_1</td>\n",
       "      <td>CrdPrev</td>\n",
       "      <td>OVERALL</td>\n",
       "      <td>OVR</td>\n",
       "      <td>NaN</td>\n",
       "      <td>NaN</td>\n",
       "      <td>NaN</td>\n",
       "      <td>NaN</td>\n",
       "    </tr>\n",
       "    <tr>\n",
       "      <th>3</th>\n",
       "      <td>2015</td>\n",
       "      <td>2015</td>\n",
       "      <td>AZ</td>\n",
       "      <td>Arizona</td>\n",
       "      <td>YRBSS</td>\n",
       "      <td>Alcohol</td>\n",
       "      <td>Alcohol use among youth</td>\n",
       "      <td>NaN</td>\n",
       "      <td>%</td>\n",
       "      <td>Crude Prevalence</td>\n",
       "      <td>...</td>\n",
       "      <td>4</td>\n",
       "      <td>ALC</td>\n",
       "      <td>ALC1_1</td>\n",
       "      <td>CrdPrev</td>\n",
       "      <td>OVERALL</td>\n",
       "      <td>OVR</td>\n",
       "      <td>NaN</td>\n",
       "      <td>NaN</td>\n",
       "      <td>NaN</td>\n",
       "      <td>NaN</td>\n",
       "    </tr>\n",
       "    <tr>\n",
       "      <th>4</th>\n",
       "      <td>2015</td>\n",
       "      <td>2015</td>\n",
       "      <td>CA</td>\n",
       "      <td>California</td>\n",
       "      <td>YRBSS</td>\n",
       "      <td>Alcohol</td>\n",
       "      <td>Alcohol use among youth</td>\n",
       "      <td>NaN</td>\n",
       "      <td>%</td>\n",
       "      <td>Crude Prevalence</td>\n",
       "      <td>...</td>\n",
       "      <td>6</td>\n",
       "      <td>ALC</td>\n",
       "      <td>ALC1_1</td>\n",
       "      <td>CrdPrev</td>\n",
       "      <td>OVERALL</td>\n",
       "      <td>OVR</td>\n",
       "      <td>NaN</td>\n",
       "      <td>NaN</td>\n",
       "      <td>NaN</td>\n",
       "      <td>NaN</td>\n",
       "    </tr>\n",
       "  </tbody>\n",
       "</table>\n",
       "<p>5 rows × 34 columns</p>\n",
       "</div>"
      ],
      "text/plain": [
       "   YearStart  YearEnd LocationAbbr LocationDesc DataSource    Topic  \\\n",
       "0       2015     2015           AK       Alaska      YRBSS  Alcohol   \n",
       "1       2015     2015           AL      Alabama      YRBSS  Alcohol   \n",
       "2       2015     2015           AR     Arkansas      YRBSS  Alcohol   \n",
       "3       2015     2015           AZ      Arizona      YRBSS  Alcohol   \n",
       "4       2015     2015           CA   California      YRBSS  Alcohol   \n",
       "\n",
       "                  Question Response DataValueUnit     DataValueType  ...  \\\n",
       "0  Alcohol use among youth      NaN             %  Crude Prevalence  ...   \n",
       "1  Alcohol use among youth      NaN             %  Crude Prevalence  ...   \n",
       "2  Alcohol use among youth      NaN             %  Crude Prevalence  ...   \n",
       "3  Alcohol use among youth      NaN             %  Crude Prevalence  ...   \n",
       "4  Alcohol use among youth      NaN             %  Crude Prevalence  ...   \n",
       "\n",
       "  LocationID  TopicID QuestionID DataValueTypeID  StratificationCategoryID1  \\\n",
       "0          2      ALC     ALC1_1         CrdPrev                    OVERALL   \n",
       "1          1      ALC     ALC1_1         CrdPrev                    OVERALL   \n",
       "2          5      ALC     ALC1_1         CrdPrev                    OVERALL   \n",
       "3          4      ALC     ALC1_1         CrdPrev                    OVERALL   \n",
       "4          6      ALC     ALC1_1         CrdPrev                    OVERALL   \n",
       "\n",
       "   StratificationID1 StratificationCategoryID2 StratificationID2  \\\n",
       "0                OVR                       NaN               NaN   \n",
       "1                OVR                       NaN               NaN   \n",
       "2                OVR                       NaN               NaN   \n",
       "3                OVR                       NaN               NaN   \n",
       "4                OVR                       NaN               NaN   \n",
       "\n",
       "  StratificationCategoryID3 StratificationID3  \n",
       "0                       NaN               NaN  \n",
       "1                       NaN               NaN  \n",
       "2                       NaN               NaN  \n",
       "3                       NaN               NaN  \n",
       "4                       NaN               NaN  \n",
       "\n",
       "[5 rows x 34 columns]"
      ]
     },
     "execution_count": 3,
     "metadata": {},
     "output_type": "execute_result"
    }
   ],
   "source": [
    "prevalence_data_df.head()"
   ]
  },
  {
   "cell_type": "code",
   "execution_count": 4,
   "id": "ef7fc6f5",
   "metadata": {
    "scrolled": true
   },
   "outputs": [
    {
     "data": {
      "text/plain": [
       "OVERALL     63215\n",
       "GENDER      94150\n",
       "RACE       246619\n",
       "Name: StratificationCategoryID1, dtype: int64"
      ]
     },
     "execution_count": 4,
     "metadata": {},
     "output_type": "execute_result"
    }
   ],
   "source": [
    "# Find Stratification options\n",
    "prevalence_data_df['StratificationCategoryID1'].value_counts(ascending = True)"
   ]
  },
  {
   "cell_type": "code",
   "execution_count": 5,
   "id": "fc1a1cc7",
   "metadata": {},
   "outputs": [],
   "source": [
    "# Remove stratified data \n",
    "strat_indices_to_drop = prevalence_data_df[prevalence_data_df['StratificationCategoryID1'].isin(['GENDER', 'RACE'])].index\n",
    "prevalence_data_df = prevalence_data_df.drop(strat_indices_to_drop)"
   ]
  },
  {
   "cell_type": "code",
   "execution_count": 6,
   "id": "59954075",
   "metadata": {},
   "outputs": [
    {
     "data": {
      "text/plain": [
       "OVERALL    63215\n",
       "Name: StratificationCategoryID1, dtype: int64"
      ]
     },
     "execution_count": 6,
     "metadata": {},
     "output_type": "execute_result"
    }
   ],
   "source": [
    "# Confirm RACE and GENDR Stratification is removed\n",
    "prevalence_data_df['StratificationCategoryID1'].value_counts(ascending = True)"
   ]
  },
  {
   "cell_type": "code",
   "execution_count": 7,
   "id": "b42c6248",
   "metadata": {
    "scrolled": true
   },
   "outputs": [
    {
     "data": {
      "text/plain": [
       "Virgin Islands           798\n",
       "Guam                     815\n",
       "Puerto Rico              825\n",
       "United States           1143\n",
       "Delaware                1164\n",
       "District of Columbia    1165\n",
       "Hawaii                  1165\n",
       "Vermont                 1166\n",
       "California              1166\n",
       "Colorado                1166\n",
       "Connecticut             1166\n",
       "Iowa                    1166\n",
       "Illinois                1167\n",
       "Alaska                  1167\n",
       "Georgia                 1167\n",
       "Alabama                 1167\n",
       "Arkansas                1167\n",
       "Arizona                 1167\n",
       "Florida                 1167\n",
       "Idaho                   1167\n",
       "New Hampshire           1168\n",
       "Maine                   1169\n",
       "Tennessee               1169\n",
       "New York                1170\n",
       "Indiana                 1170\n",
       "Massachusetts           1170\n",
       "Minnesota               1170\n",
       "Missouri                1171\n",
       "Wyoming                 1171\n",
       "West Virginia           1171\n",
       "Wisconsin               1171\n",
       "Washington              1171\n",
       "Kansas                  1171\n",
       "Virginia                1171\n",
       "Utah                    1171\n",
       "Kentucky                1171\n",
       "Texas                   1171\n",
       "South Dakota            1171\n",
       "South Carolina          1171\n",
       "Rhode Island            1171\n",
       "Louisiana               1171\n",
       "Oregon                  1171\n",
       "Oklahoma                1171\n",
       "Ohio                    1171\n",
       "Nevada                  1171\n",
       "New Mexico              1171\n",
       "New Jersey              1171\n",
       "Maryland                1171\n",
       "Nebraska                1171\n",
       "North Dakota            1171\n",
       "Michigan                1171\n",
       "Montana                 1171\n",
       "Mississippi             1171\n",
       "Pennsylvania            1171\n",
       "North Carolina          1171\n",
       "Name: LocationDesc, dtype: int64"
      ]
     },
     "execution_count": 7,
     "metadata": {},
     "output_type": "execute_result"
    }
   ],
   "source": [
    "# Find extraneous states\n",
    "prevalence_data_df['LocationDesc'].value_counts(ascending = True)"
   ]
  },
  {
   "cell_type": "code",
   "execution_count": 8,
   "id": "e055d401",
   "metadata": {},
   "outputs": [],
   "source": [
    "# Remove extraneous states data \n",
    "state_indices_to_drop = prevalence_data_df[prevalence_data_df['LocationDesc'].isin(['Virgin Islands', 'Guam', 'Puerto Rico'])].index\n",
    "prevalence_data_df = prevalence_data_df.drop(state_indices_to_drop)"
   ]
  },
  {
   "cell_type": "code",
   "execution_count": 9,
   "id": "f6dd5c82",
   "metadata": {
    "scrolled": true
   },
   "outputs": [
    {
     "data": {
      "text/plain": [
       "United States           1143\n",
       "Delaware                1164\n",
       "District of Columbia    1165\n",
       "Hawaii                  1165\n",
       "Vermont                 1166\n",
       "California              1166\n",
       "Colorado                1166\n",
       "Connecticut             1166\n",
       "Iowa                    1166\n",
       "Alaska                  1167\n",
       "Illinois                1167\n",
       "Idaho                   1167\n",
       "Georgia                 1167\n",
       "Arizona                 1167\n",
       "Arkansas                1167\n",
       "Alabama                 1167\n",
       "Florida                 1167\n",
       "New Hampshire           1168\n",
       "Maine                   1169\n",
       "Tennessee               1169\n",
       "Massachusetts           1170\n",
       "Minnesota               1170\n",
       "Indiana                 1170\n",
       "New York                1170\n",
       "Wyoming                 1171\n",
       "West Virginia           1171\n",
       "Wisconsin               1171\n",
       "Washington              1171\n",
       "Virginia                1171\n",
       "Utah                    1171\n",
       "Kansas                  1171\n",
       "Texas                   1171\n",
       "South Dakota            1171\n",
       "South Carolina          1171\n",
       "Rhode Island            1171\n",
       "Pennsylvania            1171\n",
       "Oklahoma                1171\n",
       "Maryland                1171\n",
       "Ohio                    1171\n",
       "Nevada                  1171\n",
       "New Mexico              1171\n",
       "New Jersey              1171\n",
       "Kentucky                1171\n",
       "Nebraska                1171\n",
       "North Dakota            1171\n",
       "North Carolina          1171\n",
       "Louisiana               1171\n",
       "Mississippi             1171\n",
       "Missouri                1171\n",
       "Michigan                1171\n",
       "Oregon                  1171\n",
       "Montana                 1171\n",
       "Name: LocationDesc, dtype: int64"
      ]
     },
     "execution_count": 9,
     "metadata": {},
     "output_type": "execute_result"
    }
   ],
   "source": [
    "# Confirm extraneous states removed\n",
    "prevalence_data_df['LocationDesc'].value_counts(ascending = True)"
   ]
  },
  {
   "cell_type": "code",
   "execution_count": 10,
   "id": "340119bd",
   "metadata": {
    "scrolled": false
   },
   "outputs": [
    {
     "data": {
      "text/plain": [
       "Disability                                           52\n",
       "Reproductive Health                                 364\n",
       "Immunization                                        460\n",
       "Older Adults                                        624\n",
       "Mental Health                                       780\n",
       "Oral Health                                        1300\n",
       "Chronic Kidney Disease                             2340\n",
       "Cancer                                             3848\n",
       "Tobacco                                            3989\n",
       "Arthritis                                          4051\n",
       "Alcohol                                            4258\n",
       "Asthma                                             4264\n",
       "Overarching Conditions                             4368\n",
       "Nutrition, Physical Activity, and Weight Status    5798\n",
       "Chronic Obstructive Pulmonary Disease              7280\n",
       "Cardiovascular Disease                             8217\n",
       "Diabetes                                           8784\n",
       "Name: Topic, dtype: int64"
      ]
     },
     "execution_count": 10,
     "metadata": {},
     "output_type": "execute_result"
    }
   ],
   "source": [
    "# Find extraneous topics\n",
    "prevalence_data_df['Topic'].value_counts(ascending = True)"
   ]
  },
  {
   "cell_type": "code",
   "execution_count": 11,
   "id": "46d73bfc",
   "metadata": {},
   "outputs": [],
   "source": [
    "# Remove extraneous topics\n",
    "topic_indices_to_drop = prevalence_data_df[prevalence_data_df['Topic'].isin(['Disability', 'Reproductive Health', 'Immunization', 'Older Adults', 'Mental Health', 'Oral Health', 'Arthritis', 'Alcohol','Overarching Conditions', 'Nutrition, Physical Activity, and Weight Status' ])].index\n",
    "prevalence_data_df = prevalence_data_df.drop(topic_indices_to_drop)"
   ]
  },
  {
   "cell_type": "code",
   "execution_count": 12,
   "id": "864579ec",
   "metadata": {
    "scrolled": false
   },
   "outputs": [
    {
     "data": {
      "text/plain": [
       "Chronic Kidney Disease                   2340\n",
       "Cancer                                   3848\n",
       "Tobacco                                  3989\n",
       "Asthma                                   4264\n",
       "Chronic Obstructive Pulmonary Disease    7280\n",
       "Cardiovascular Disease                   8217\n",
       "Diabetes                                 8784\n",
       "Name: Topic, dtype: int64"
      ]
     },
     "execution_count": 12,
     "metadata": {},
     "output_type": "execute_result"
    }
   ],
   "source": [
    "# Confirm extraneous topics removed\n",
    "prevalence_data_df['Topic'].value_counts(ascending = True)"
   ]
  },
  {
   "cell_type": "code",
   "execution_count": 13,
   "id": "a3da22bf",
   "metadata": {},
   "outputs": [
    {
     "data": {
      "text/plain": [
       "Birth Certificate, NVSS                   52\n",
       "CDC School Health Profiles               104\n",
       "ANRF                                     104\n",
       "PRAMS                                    156\n",
       "YRBSS                                    202\n",
       "State Emergency Department Data          312\n",
       "CMS Part A Claims Data                   468\n",
       "SEDD; SID                                624\n",
       "STATE                                    667\n",
       "USRDS                                   1040\n",
       "Death certificate                       1248\n",
       "Statewide central cancer registries     1248\n",
       "State Inpatient Data                    2184\n",
       "NVSS                                    8581\n",
       "BRFSS                                  21732\n",
       "Name: DataSource, dtype: int64"
      ]
     },
     "execution_count": 13,
     "metadata": {},
     "output_type": "execute_result"
    }
   ],
   "source": [
    "# Find extraneous data sources\n",
    "prevalence_data_df['DataSource'].value_counts(ascending = True)"
   ]
  },
  {
   "cell_type": "code",
   "execution_count": 14,
   "id": "72a68a24",
   "metadata": {},
   "outputs": [],
   "source": [
    "# Remove extraneous data sources\n",
    "source_indices_to_drop = prevalence_data_df[prevalence_data_df['DataSource'].isin(['Birth Certificate, NVSS', 'CDC School Health Profiles', 'ANRF', 'PRAMS', 'YRBSS', 'State Emergency Department Data', 'CMS Part A Claims Data', 'SEDD; SID','STATE', 'USRDS', 'Death certificate', 'Statewide central cancer registries', 'State Inpatient Data', 'NVSS'])].index\n",
    "prevalence_data_df = prevalence_data_df.drop(source_indices_to_drop)"
   ]
  },
  {
   "cell_type": "code",
   "execution_count": 15,
   "id": "68572600",
   "metadata": {},
   "outputs": [
    {
     "data": {
      "text/plain": [
       "BRFSS    21732\n",
       "Name: DataSource, dtype: int64"
      ]
     },
     "execution_count": 15,
     "metadata": {},
     "output_type": "execute_result"
    }
   ],
   "source": [
    "# Confirm extraneous data sources removed\n",
    "prevalence_data_df['DataSource'].value_counts(ascending = True)"
   ]
  },
  {
   "cell_type": "code",
   "execution_count": 16,
   "id": "8d19140c",
   "metadata": {
    "scrolled": true
   },
   "outputs": [
    {
     "data": {
      "text/plain": [
       "Awareness of high blood pressure among women aged 18-44 years                                                                  156\n",
       "Visits to dentist or dental clinic among adults aged >= 18 years with diagnosed diabetes                                       208\n",
       "Recent Papanicolaou smear use among women aged 21-44 years                                                                     208\n",
       "Current cigarette smoking among women aged 18-44 years                                                                         260\n",
       "Diabetes prevalence among women aged 18-44 years                                                                               260\n",
       "Asthma prevalence among women aged 18-44 years                                                                                 260\n",
       "Taking medicine for high blood pressure control among adults aged >= 18 years with high blood pressure                         312\n",
       "Awareness of high blood pressure among adults aged >= 18 years                                                                 312\n",
       "High cholesterol prevalence among adults aged >= 18 years                                                                      312\n",
       "Fecal occult blood test, sigmoidoscopy, or colonoscopy among adults aged 50-75 years                                           312\n",
       "Cholesterol screening among adults aged >= 18 years                                                                            312\n",
       "Prevalence of high cholesterol among adults aged >= 18 years with diagnosed diabetes                                           414\n",
       "Prevalence of high blood pressure among adults aged >= 18 years with diagnosed diabetes                                        414\n",
       "Papanicolaou smear use among adult women aged 21-65 years                                                                      416\n",
       "Mammography use among women aged 50-74 years                                                                                   416\n",
       "Prevalence of diagnosed diabetes among adults aged >= 18 years                                                                 520\n",
       "Influenza vaccination among noninstitutionalized adults aged 18-64 years with a history of coronary heart disease or stroke    520\n",
       "Influenza vaccination among noninstitutionalized adults aged >= 65 years with a history of coronary heart disease or stroke    520\n",
       "Adults with diagnosed diabetes aged >= 18 years who have taken a diabetes self-management course                               520\n",
       "Influenza vaccination among noninstitutionalized adults aged 18-64 years with asthma                                           520\n",
       "Influenza vaccination among noninstitutionalized adults aged >= 65 years with diagnosed diabetes                               520\n",
       "Pneumococcal vaccination among noninstitutionalized adults aged 18-64 years with diagnosed diabetes                            520\n",
       "Pneumococcal vaccination among noninstitutionalized adults aged >= 65 years with diagnosed diabetes                            520\n",
       "Foot examination among adults aged >= 18 years with diagnosed diabetes                                                         520\n",
       "Glycosylated hemoglobin measurement among adults aged >= 18 years with diagnosed diabetes                                      520\n",
       "Dilated eye examination among adults aged >= 18 years with diagnosed diabetes                                                  520\n",
       "Pneumococcal vaccination among noninstitutionalized adults aged 18-64 years who smoke                                          520\n",
       "Pneumococcal vaccination among noninstitutionalized adults aged >= 65 years who smoke                                          520\n",
       "Influenza vaccination among noninstitutionalized adults aged 18-64 years with diagnosed diabetes                               520\n",
       "Prevalence of depressive disorders among adults aged >= 18 years with diagnosed diabetes                                       520\n",
       "Quit attempts in the past year among current smokers                                                                           520\n",
       "Current smokeless tobacco use among adults aged >= 18 years                                                                    520\n",
       "Influenza vaccination among noninstitutionalized adults aged >= 65 years with asthma                                           520\n",
       "Pneumococcal vaccination among noninstitutionalized adults aged 18-64 years with asthma                                        520\n",
       "Pneumococcal vaccination among noninstitutionalized adults aged >= 65 years with asthma                                        520\n",
       "Current smoking among adults aged >= 18 years                                                                                  520\n",
       "Prevalence of chronic kidney disease among adults aged >= 18 years                                                             520\n",
       "Prevalence of chronic obstructive pulmonary disease among adults >= 18                                                         520\n",
       "Pneumococcal vaccination among noninstitutionalized adults aged >= 65 years with a history of coronary heart disease           520\n",
       "Current asthma prevalence among adults aged >= 18 years                                                                        520\n",
       "Prevalence of current smoking among adults >= 18 with diagnosed chronic obstructive pulmonary disease                          520\n",
       "Prevalence of current smoking among adults >= 45 years with diagnosed chronic obstructive pulmonary disease                    520\n",
       "Prevalence of activity limitation among adults >= 18 with diagnosed chronic obstructive pulmonary disease                      520\n",
       "Prevalence of activity limitation among adults >= 45 years with diagnosed chronic obstructive pulmonary disease                520\n",
       "Influenza vaccination among noninstitutionalized adults aged >= 45 years with chronic obstructive pulmonary disease            520\n",
       "Pneumococcal vaccination among noninstitutionalized adults aged >= 45 years with chronic obstructive pulmonary disease         520\n",
       "Prevalence of chronic obstructive pulmonary disease among adults >= 45 years                                                   520\n",
       "Pneumococcal vaccination among noninstitutionalized adults aged 18-64 years with a history of coronary heart disease           520\n",
       "Name: Question, dtype: int64"
      ]
     },
     "execution_count": 16,
     "metadata": {},
     "output_type": "execute_result"
    }
   ],
   "source": [
    "# Find irrelevant queries 1\n",
    "prevalence_data_df['Question'].value_counts(ascending = True)"
   ]
  },
  {
   "cell_type": "code",
   "execution_count": 17,
   "id": "258a23c9",
   "metadata": {},
   "outputs": [],
   "source": [
    "# Remove irrelevant queries 1\n",
    "Question1_indices_to_drop = prevalence_data_df[prevalence_data_df['Question'].isin(['Awareness of high blood pressure among women aged 18-44 years', 'Visits to dentist or dental clinic among adults aged >= 18 years with diagnosed diabetes', 'Recent Papanicolaou smear use among women aged 21-44 years', 'Current cigarette smoking among women aged 18-44 years', 'Diabetes prevalence among women aged 18-44 years', 'Asthma prevalence among women aged 18-44 years', 'Taking medicine for high blood pressure control among adults aged >= 18 years with high blood pressure', 'Awareness of high blood pressure among adults aged >= 18 years','High cholesterol prevalence among adults aged >= 18 years', 'Fecal occult blood test, sigmoidoscopy, or colonoscopy among adults aged 50-75 years', 'Cholesterol screening among adults aged >= 18 years', 'Prevalence of high cholesterol among adults aged >= 18 years with diagnosed diabetes', 'Prevalence of high blood pressure among adults aged >= 18 years with diagnosed diabetes', 'Papanicolaou smear use among adult women aged 21-65 years'])].index\n",
    "prevalence_data_df = prevalence_data_df.drop(Question1_indices_to_drop)"
   ]
  },
  {
   "cell_type": "code",
   "execution_count": 18,
   "id": "ae60a4f5",
   "metadata": {
    "scrolled": true
   },
   "outputs": [
    {
     "data": {
      "text/plain": [
       "Mammography use among women aged 50-74 years                                                                                   416\n",
       "Pneumococcal vaccination among noninstitutionalized adults aged 18-64 years who smoke                                          520\n",
       "Dilated eye examination among adults aged >= 18 years with diagnosed diabetes                                                  520\n",
       "Glycosylated hemoglobin measurement among adults aged >= 18 years with diagnosed diabetes                                      520\n",
       "Foot examination among adults aged >= 18 years with diagnosed diabetes                                                         520\n",
       "Pneumococcal vaccination among noninstitutionalized adults aged >= 65 years with diagnosed diabetes                            520\n",
       "Pneumococcal vaccination among noninstitutionalized adults aged 18-64 years with diagnosed diabetes                            520\n",
       "Influenza vaccination among noninstitutionalized adults aged >= 65 years with diagnosed diabetes                               520\n",
       "Influenza vaccination among noninstitutionalized adults aged 18-64 years with diagnosed diabetes                               520\n",
       "Prevalence of depressive disorders among adults aged >= 18 years with diagnosed diabetes                                       520\n",
       "Adults with diagnosed diabetes aged >= 18 years who have taken a diabetes self-management course                               520\n",
       "Influenza vaccination among noninstitutionalized adults aged >= 65 years with a history of coronary heart disease or stroke    520\n",
       "Influenza vaccination among noninstitutionalized adults aged 18-64 years with a history of coronary heart disease or stroke    520\n",
       "Prevalence of diagnosed diabetes among adults aged >= 18 years                                                                 520\n",
       "Quit attempts in the past year among current smokers                                                                           520\n",
       "Pneumococcal vaccination among noninstitutionalized adults aged >= 65 years with a history of coronary heart disease           520\n",
       "Pneumococcal vaccination among noninstitutionalized adults aged 18-64 years with a history of coronary heart disease           520\n",
       "Pneumococcal vaccination among noninstitutionalized adults aged >= 45 years with chronic obstructive pulmonary disease         520\n",
       "Current asthma prevalence among adults aged >= 18 years                                                                        520\n",
       "Influenza vaccination among noninstitutionalized adults aged 18-64 years with asthma                                           520\n",
       "Influenza vaccination among noninstitutionalized adults aged >= 65 years with asthma                                           520\n",
       "Pneumococcal vaccination among noninstitutionalized adults aged 18-64 years with asthma                                        520\n",
       "Pneumococcal vaccination among noninstitutionalized adults aged >= 65 years with asthma                                        520\n",
       "Current smoking among adults aged >= 18 years                                                                                  520\n",
       "Pneumococcal vaccination among noninstitutionalized adults aged >= 65 years who smoke                                          520\n",
       "Prevalence of chronic kidney disease among adults aged >= 18 years                                                             520\n",
       "Prevalence of chronic obstructive pulmonary disease among adults >= 45 years                                                   520\n",
       "Prevalence of current smoking among adults >= 18 with diagnosed chronic obstructive pulmonary disease                          520\n",
       "Prevalence of current smoking among adults >= 45 years with diagnosed chronic obstructive pulmonary disease                    520\n",
       "Prevalence of activity limitation among adults >= 18 with diagnosed chronic obstructive pulmonary disease                      520\n",
       "Prevalence of activity limitation among adults >= 45 years with diagnosed chronic obstructive pulmonary disease                520\n",
       "Influenza vaccination among noninstitutionalized adults aged >= 45 years with chronic obstructive pulmonary disease            520\n",
       "Prevalence of chronic obstructive pulmonary disease among adults >= 18                                                         520\n",
       "Current smokeless tobacco use among adults aged >= 18 years                                                                    520\n",
       "Name: Question, dtype: int64"
      ]
     },
     "execution_count": 18,
     "metadata": {},
     "output_type": "execute_result"
    }
   ],
   "source": [
    "# Find irrelevant queries 2\n",
    "prevalence_data_df['Question'].value_counts(ascending = True)"
   ]
  },
  {
   "cell_type": "code",
   "execution_count": 19,
   "id": "b7f1ff04",
   "metadata": {},
   "outputs": [],
   "source": [
    "Question2_indices_to_drop = prevalence_data_df[prevalence_data_df['Question'].isin(['Mammography use among women aged 50-74 years', 'Pneumococcal vaccination among noninstitutionalized adults aged 18-64 years who smoke ', 'Dilated eye examination among adults aged >= 18 years with diagnosed diabetes', 'Glycosylated hemoglobin measurement among adults aged >= 18 years with diagnosed diabetes', 'Foot examination among adults aged >= 18 years with diagnosed diabetes', 'Pneumococcal vaccination among noninstitutionalized adults aged >= 65 years with diagnosed diabetes', 'Pneumococcal vaccination among noninstitutionalized adults aged 18-64 years with diagnosed diabetes', 'Influenza vaccination among noninstitutionalized adults aged >= 65 years with diagnosed diabetes','Influenza vaccination among noninstitutionalized adults aged 18-64 years with diagnosed diabetes', 'Prevalence of depressive disorders among adults aged >= 18 years with diagnosed diabetes', 'Adults with diagnosed diabetes aged >= 18 years who have taken a diabetes self-management course', 'Influenza vaccination among noninstitutionalized adults aged >= 65 years with a history of coronary heart disease or stroke', 'Influenza vaccination among noninstitutionalized adults aged 18-64 years with a history of coronary heart disease or stroke'])].index\n",
    "prevalence_data_df = prevalence_data_df.drop(Question2_indices_to_drop)"
   ]
  },
  {
   "cell_type": "code",
   "execution_count": 20,
   "id": "c28f90f8",
   "metadata": {
    "scrolled": true
   },
   "outputs": [
    {
     "data": {
      "text/plain": [
       "Current asthma prevalence among adults aged >= 18 years                                                                   520\n",
       "Pneumococcal vaccination among noninstitutionalized adults aged 18-64 years who smoke                                     520\n",
       "Prevalence of diagnosed diabetes among adults aged >= 18 years                                                            520\n",
       "Quit attempts in the past year among current smokers                                                                      520\n",
       "Pneumococcal vaccination among noninstitutionalized adults aged >= 65 years with a history of coronary heart disease      520\n",
       "Pneumococcal vaccination among noninstitutionalized adults aged 18-64 years with a history of coronary heart disease      520\n",
       "Pneumococcal vaccination among noninstitutionalized adults aged >= 45 years with chronic obstructive pulmonary disease    520\n",
       "Influenza vaccination among noninstitutionalized adults aged >= 45 years with chronic obstructive pulmonary disease       520\n",
       "Prevalence of activity limitation among adults >= 45 years with diagnosed chronic obstructive pulmonary disease           520\n",
       "Prevalence of activity limitation among adults >= 18 with diagnosed chronic obstructive pulmonary disease                 520\n",
       "Prevalence of current smoking among adults >= 45 years with diagnosed chronic obstructive pulmonary disease               520\n",
       "Prevalence of current smoking among adults >= 18 with diagnosed chronic obstructive pulmonary disease                     520\n",
       "Prevalence of chronic obstructive pulmonary disease among adults >= 45 years                                              520\n",
       "Prevalence of chronic obstructive pulmonary disease among adults >= 18                                                    520\n",
       "Prevalence of chronic kidney disease among adults aged >= 18 years                                                        520\n",
       "Current smoking among adults aged >= 18 years                                                                             520\n",
       "Pneumococcal vaccination among noninstitutionalized adults aged >= 65 years with asthma                                   520\n",
       "Pneumococcal vaccination among noninstitutionalized adults aged 18-64 years with asthma                                   520\n",
       "Influenza vaccination among noninstitutionalized adults aged >= 65 years with asthma                                      520\n",
       "Influenza vaccination among noninstitutionalized adults aged 18-64 years with asthma                                      520\n",
       "Pneumococcal vaccination among noninstitutionalized adults aged >= 65 years who smoke                                     520\n",
       "Current smokeless tobacco use among adults aged >= 18 years                                                               520\n",
       "Name: Question, dtype: int64"
      ]
     },
     "execution_count": 20,
     "metadata": {},
     "output_type": "execute_result"
    }
   ],
   "source": [
    "# Find irrelevant queries 3\n",
    "prevalence_data_df['Question'].value_counts(ascending = True)"
   ]
  },
  {
   "cell_type": "code",
   "execution_count": 21,
   "id": "f1431205",
   "metadata": {},
   "outputs": [],
   "source": [
    "# Remove irrelevant queries 3\n",
    "Question3_indices_to_drop = prevalence_data_df[prevalence_data_df['Question'].isin(['Pneumococcal vaccination among noninstitutionalized adults aged 18-64 years who smoke', 'Quit attempts in the past year among current smokers', 'Pneumococcal vaccination among noninstitutionalized adults aged >= 65 years with a history of coronary heart disease', 'Pneumococcal vaccination among noninstitutionalized adults aged 18-64 years with a history of coronary heart disease', 'Pneumococcal vaccination among noninstitutionalized adults aged >= 45 years with chronic obstructive pulmonary disease', 'Influenza vaccination among noninstitutionalized adults aged >= 45 years with chronic obstructive pulmonary disease', 'Prevalence of activity limitation among adults >= 45 years with diagnosed chronic obstructive pulmonary disease', 'Prevalence of activity limitation among adults >= 18 with diagnosed chronic obstructive pulmonary disease','Pneumococcal vaccination among noninstitutionalized adults aged >= 65 years who smoke', 'Prevalence of chronic obstructive pulmonary disease among adults >= 45 years', 'Pneumococcal vaccination among noninstitutionalized adults aged >= 65 years with asthma', 'Pneumococcal vaccination among noninstitutionalized adults aged 18-64 years with asthma ', 'Influenza vaccination among noninstitutionalized adults aged >= 65 years with asthma', 'Influenza vaccination among noninstitutionalized adults aged 18-64 years with asthma'])].index\n",
    "prevalence_data_df = prevalence_data_df.drop(Question3_indices_to_drop)"
   ]
  },
  {
   "cell_type": "code",
   "execution_count": 22,
   "id": "b3606a27",
   "metadata": {
    "scrolled": true
   },
   "outputs": [
    {
     "data": {
      "text/plain": [
       "Current asthma prevalence among adults aged >= 18 years                                                        520\n",
       "Pneumococcal vaccination among noninstitutionalized adults aged 18-64 years with asthma                        520\n",
       "Current smoking among adults aged >= 18 years                                                                  520\n",
       "Prevalence of chronic kidney disease among adults aged >= 18 years                                             520\n",
       "Prevalence of chronic obstructive pulmonary disease among adults >= 18                                         520\n",
       "Prevalence of current smoking among adults >= 18 with diagnosed chronic obstructive pulmonary disease          520\n",
       "Prevalence of current smoking among adults >= 45 years with diagnosed chronic obstructive pulmonary disease    520\n",
       "Prevalence of diagnosed diabetes among adults aged >= 18 years                                                 520\n",
       "Current smokeless tobacco use among adults aged >= 18 years                                                    520\n",
       "Name: Question, dtype: int64"
      ]
     },
     "execution_count": 22,
     "metadata": {},
     "output_type": "execute_result"
    }
   ],
   "source": [
    "# Find irrelevant queries 4\n",
    "prevalence_data_df['Question'].value_counts(ascending = True)"
   ]
  },
  {
   "cell_type": "code",
   "execution_count": 23,
   "id": "0340683c",
   "metadata": {},
   "outputs": [],
   "source": [
    "# Remove irrelevant queries 4\n",
    "Question4_indices_to_drop = prevalence_data_df[prevalence_data_df['Question'].isin(['Pneumococcal vaccination among noninstitutionalized adults aged 18-64 years with asthma'])].index\n",
    "prevalence_data_df = prevalence_data_df.drop(Question4_indices_to_drop)"
   ]
  },
  {
   "cell_type": "code",
   "execution_count": 24,
   "id": "86c64eec",
   "metadata": {
    "scrolled": true
   },
   "outputs": [
    {
     "data": {
      "text/plain": [
       "Current asthma prevalence among adults aged >= 18 years                                                        520\n",
       "Current smoking among adults aged >= 18 years                                                                  520\n",
       "Prevalence of chronic kidney disease among adults aged >= 18 years                                             520\n",
       "Prevalence of chronic obstructive pulmonary disease among adults >= 18                                         520\n",
       "Prevalence of current smoking among adults >= 18 with diagnosed chronic obstructive pulmonary disease          520\n",
       "Prevalence of current smoking among adults >= 45 years with diagnosed chronic obstructive pulmonary disease    520\n",
       "Prevalence of diagnosed diabetes among adults aged >= 18 years                                                 520\n",
       "Current smokeless tobacco use among adults aged >= 18 years                                                    520\n",
       "Name: Question, dtype: int64"
      ]
     },
     "execution_count": 24,
     "metadata": {},
     "output_type": "execute_result"
    }
   ],
   "source": [
    "# Find irrelevant queries 5\n",
    "prevalence_data_df['Question'].value_counts(ascending = True)"
   ]
  },
  {
   "cell_type": "code",
   "execution_count": 25,
   "id": "c4e40b64",
   "metadata": {},
   "outputs": [],
   "source": [
    "# Remove irrelevant queries 5\n",
    "Question5_indices_to_drop = prevalence_data_df[prevalence_data_df['Question'].isin(['Current smokeless tobacco use among adults aged >= 18 years', 'Prevalence of current smoking among adults >= 45 years with diagnosed chronic obstructive pulmonary disease'])].index\n",
    "prevalence_data_df = prevalence_data_df.drop(Question5_indices_to_drop)"
   ]
  },
  {
   "cell_type": "code",
   "execution_count": 26,
   "id": "1776cfad",
   "metadata": {
    "scrolled": true
   },
   "outputs": [
    {
     "data": {
      "text/plain": [
       "Current asthma prevalence among adults aged >= 18 years                                                  520\n",
       "Current smoking among adults aged >= 18 years                                                            520\n",
       "Prevalence of chronic kidney disease among adults aged >= 18 years                                       520\n",
       "Prevalence of chronic obstructive pulmonary disease among adults >= 18                                   520\n",
       "Prevalence of current smoking among adults >= 18 with diagnosed chronic obstructive pulmonary disease    520\n",
       "Prevalence of diagnosed diabetes among adults aged >= 18 years                                           520\n",
       "Name: Question, dtype: int64"
      ]
     },
     "execution_count": 26,
     "metadata": {},
     "output_type": "execute_result"
    }
   ],
   "source": [
    "# Find irrelevant queries 5\n",
    "prevalence_data_df['Question'].value_counts(ascending = True)"
   ]
  },
  {
   "cell_type": "code",
   "execution_count": 27,
   "id": "5613c772",
   "metadata": {},
   "outputs": [],
   "source": [
    "# Remove irrelevant queries 6\n",
    "Question6_indices_to_drop = prevalence_data_df[prevalence_data_df['Question'].isin(['Prevalence of current smoking among adults >= 18 with diagnosed chronic obstructive pulmonary disease'])].index\n",
    "prevalence_data_df = prevalence_data_df.drop(Question6_indices_to_drop)"
   ]
  },
  {
   "cell_type": "code",
   "execution_count": 28,
   "id": "c5853498",
   "metadata": {},
   "outputs": [
    {
     "data": {
      "text/plain": [
       "Current asthma prevalence among adults aged >= 18 years                   520\n",
       "Current smoking among adults aged >= 18 years                             520\n",
       "Prevalence of chronic kidney disease among adults aged >= 18 years        520\n",
       "Prevalence of chronic obstructive pulmonary disease among adults >= 18    520\n",
       "Prevalence of diagnosed diabetes among adults aged >= 18 years            520\n",
       "Name: Question, dtype: int64"
      ]
     },
     "execution_count": 28,
     "metadata": {},
     "output_type": "execute_result"
    }
   ],
   "source": [
    "# Find irrelevant queries 6\n",
    "prevalence_data_df['Question'].value_counts(ascending = True)"
   ]
  }
 ],
 "metadata": {
  "kernelspec": {
   "display_name": "mlenv",
   "language": "python",
   "name": "mlenv"
  },
  "language_info": {
   "codemirror_mode": {
    "name": "ipython",
    "version": 3
   },
   "file_extension": ".py",
   "mimetype": "text/x-python",
   "name": "python",
   "nbconvert_exporter": "python",
   "pygments_lexer": "ipython3",
   "version": "3.7.15"
  }
 },
 "nbformat": 4,
 "nbformat_minor": 5
}
